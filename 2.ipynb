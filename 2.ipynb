{
 "cells": [
  {
   "cell_type": "code",
   "execution_count": 15,
   "id": "da4f3b4c",
   "metadata": {},
   "outputs": [],
   "source": [
    "import numpy as np\n",
    "import tensorflow as tf\n",
    "from tensorflow.keras import layers, models\n",
    "from tensorflow.keras.optimizers import Adam\n",
    "from tensorflow.keras.callbacks import ModelCheckpoint\n",
    "from tensorflow.keras.datasets import mnist\n",
    "import os\n"
   ]
  },
  {
   "cell_type": "code",
   "execution_count": 22,
   "id": "65697997",
   "metadata": {},
   "outputs": [],
   "source": [
    "# Load MNIST dataset\n",
    "(train_images, train_labels), (test_images, test_labels) = mnist.load_data()\n",
    "\n",
    "# Filter even digits: 0, 2, 4, 6, 8\n",
    "even_digits = [0, 2, 4, 6, 8]\n",
    "train_mask = np.isin(train_labels, even_digits)\n",
    "test_mask = np.isin(test_labels, even_digits)\n",
    "\n",
    "train_images = train_images[train_mask]\n",
    "train_labels = train_labels[train_mask]\n",
    "test_images = test_images[test_mask]\n",
    "test_labels = test_labels[test_mask]\n",
    "\n",
    "# Map labels: 0→0, 2→1, 4→2, 6→3, 8→4\n",
    "label_mapping = {0: 0, 2: 1, 4: 2, 6: 3, 8: 4}\n",
    "train_labels = np.vectorize(label_mapping.get)(train_labels)\n",
    "test_labels = np.vectorize(label_mapping.get)(test_labels)\n",
    "\n",
    "# Normalize and reshape\n",
    "train_images = train_images.astype(\"float32\") / 255.0\n",
    "test_images = test_images.astype(\"float32\") / 255.0\n",
    "train_images = np.expand_dims(train_images, -1)\n",
    "test_images = np.expand_dims(test_images, -1)\n",
    "\n",
    "# Split training set: 80% train, 20% validation\n",
    "val_split = int(0.8 * len(train_images))\n",
    "x_train = train_images[:val_split]\n",
    "y_train = train_labels[:val_split]\n",
    "x_val = train_images[val_split:]\n",
    "y_val = train_labels[val_split:]\n"
   ]
  },
  {
   "cell_type": "code",
   "execution_count": 19,
   "id": "a9ddaab0",
   "metadata": {},
   "outputs": [],
   "source": [
    "def create_model():\n",
    "    model = models.Sequential([\n",
    "        layers.Conv2D(32, (3, 3), activation='relu', input_shape=(28, 28, 1)),\n",
    "        layers.MaxPooling2D((2, 2)),\n",
    "        layers.Conv2D(64, (3, 3), activation='relu'),\n",
    "        layers.MaxPooling2D((2, 2)),\n",
    "        layers.Flatten(),\n",
    "        layers.Dense(128, activation='relu'),\n",
    "        layers.Dense(5, activation='softmax')  # 5 classes for even digits\n",
    "    ])\n",
    "    return model\n"
   ]
  },
  {
   "cell_type": "code",
   "execution_count": 23,
   "id": "113e0f7e",
   "metadata": {},
   "outputs": [
    {
     "name": "stdout",
     "output_type": "stream",
     "text": [
      "Epoch 1/10\n",
      "1473/1475 [============================>.] - ETA: 0s - loss: 0.0698 - accuracy: 0.9779\n",
      "Epoch 1: val_loss improved from inf to 0.07457, saving model to best_model.h5\n",
      "1475/1475 [==============================] - 33s 22ms/step - loss: 0.0698 - accuracy: 0.9779 - val_loss: 0.0746 - val_accuracy: 0.9769\n",
      "Epoch 2/10\n",
      "1473/1475 [============================>.] - ETA: 0s - loss: 0.0229 - accuracy: 0.9931\n",
      "Epoch 2: val_loss improved from 0.07457 to 0.02640, saving model to best_model.h5\n",
      "1475/1475 [==============================] - 32s 22ms/step - loss: 0.0229 - accuracy: 0.9931 - val_loss: 0.0264 - val_accuracy: 0.9917\n",
      "Epoch 3/10\n",
      "1474/1475 [============================>.] - ETA: 0s - loss: 0.0164 - accuracy: 0.9948\n",
      "Epoch 3: val_loss did not improve from 0.02640\n",
      "1475/1475 [==============================] - 30s 21ms/step - loss: 0.0164 - accuracy: 0.9948 - val_loss: 0.0289 - val_accuracy: 0.9930\n",
      "Epoch 4/10\n",
      "1473/1475 [============================>.] - ETA: 0s - loss: 0.0109 - accuracy: 0.9966\n",
      "Epoch 4: val_loss improved from 0.02640 to 0.02188, saving model to best_model.h5\n",
      "1475/1475 [==============================] - 32s 22ms/step - loss: 0.0109 - accuracy: 0.9966 - val_loss: 0.0219 - val_accuracy: 0.9956\n",
      "Epoch 5/10\n",
      "1473/1475 [============================>.] - ETA: 0s - loss: 0.0105 - accuracy: 0.9969\n",
      "Epoch 5: val_loss did not improve from 0.02188\n",
      "1475/1475 [==============================] - 29s 20ms/step - loss: 0.0105 - accuracy: 0.9969 - val_loss: 0.0243 - val_accuracy: 0.9958\n",
      "Epoch 6/10\n",
      "1475/1475 [==============================] - ETA: 0s - loss: 0.0087 - accuracy: 0.9974\n",
      "Epoch 6: val_loss did not improve from 0.02188\n",
      "1475/1475 [==============================] - 27s 18ms/step - loss: 0.0087 - accuracy: 0.9974 - val_loss: 0.0227 - val_accuracy: 0.9941\n",
      "Epoch 7/10\n",
      "1474/1475 [============================>.] - ETA: 0s - loss: 0.0082 - accuracy: 0.9978\n",
      "Epoch 7: val_loss did not improve from 0.02188\n",
      "1475/1475 [==============================] - 31s 21ms/step - loss: 0.0082 - accuracy: 0.9978 - val_loss: 0.0677 - val_accuracy: 0.9895\n",
      "Epoch 8/10\n",
      "1475/1475 [==============================] - ETA: 0s - loss: 0.0090 - accuracy: 0.9972\n",
      "Epoch 8: val_loss did not improve from 0.02188\n",
      "1475/1475 [==============================] - 30s 20ms/step - loss: 0.0090 - accuracy: 0.9972 - val_loss: 0.0283 - val_accuracy: 0.9953\n",
      "Epoch 9/10\n",
      "1474/1475 [============================>.] - ETA: 0s - loss: 0.0087 - accuracy: 0.9975\n",
      "Epoch 9: val_loss did not improve from 0.02188\n",
      "1475/1475 [==============================] - 29s 20ms/step - loss: 0.0087 - accuracy: 0.9975 - val_loss: 0.0424 - val_accuracy: 0.9941\n",
      "Epoch 10/10\n",
      "1474/1475 [============================>.] - ETA: 0s - loss: 0.0045 - accuracy: 0.9988\n",
      "Epoch 10: val_loss did not improve from 0.02188\n",
      "1475/1475 [==============================] - 31s 21ms/step - loss: 0.0045 - accuracy: 0.9988 - val_loss: 0.0300 - val_accuracy: 0.9956\n"
     ]
    },
    {
     "data": {
      "text/plain": [
       "<keras.callbacks.History at 0x29737297100>"
      ]
     },
     "execution_count": 23,
     "metadata": {},
     "output_type": "execute_result"
    }
   ],
   "source": [
    "# Create and compile model\n",
    "model = create_model()\n",
    "model.compile(optimizer=Adam(learning_rate=0.002),\n",
    "              loss='sparse_categorical_crossentropy',\n",
    "              metrics=['accuracy'])\n",
    "\n",
    "# Set model checkpoint to save best model\n",
    "checkpoint = ModelCheckpoint('best_model.h5', monitor='val_loss', save_best_only=True, mode='min', verbose=1)\n",
    "\n",
    "# Train for first 10 epochs\n",
    "model.fit(x_train, y_train,\n",
    "          epochs=10,\n",
    "          batch_size=16,\n",
    "          validation_data=(x_val, y_val),\n",
    "          callbacks=[checkpoint])\n"
   ]
  },
  {
   "cell_type": "code",
   "execution_count": null,
   "id": "8e72c441",
   "metadata": {},
   "outputs": [],
   "source": [
    "# Freeze 1st and 2nd convolutional layers\n",
    "#Freeze 1st & 2nd convolutional layers (they keep their learned patterns).\n",
    "\n",
    "model.layers[0].trainable = False  # Conv2D layer 1\n",
    "model.layers[1].trainable = False  # MaxPool layer 1\n",
    "model.layers[2].trainable = False  # Conv2D layer 2\n",
    "model.layers[3].trainable = False  # MaxPool layer 2\n",
    "\n",
    "# Recompile the model after freezing\n",
    "model.compile(optimizer=Adam(learning_rate=0.002),\n",
    "              loss='sparse_categorical_crossentropy',\n",
    "              metrics=['accuracy'])\n"
   ]
  },
  {
   "cell_type": "code",
   "execution_count": null,
   "id": "030767cd",
   "metadata": {},
   "outputs": [
    {
     "name": "stdout",
     "output_type": "stream",
     "text": [
      "Epoch 1/10\n",
      "1473/1475 [============================>.] - ETA: 0s - loss: 0.0028 - accuracy: 0.9994\n",
      "Epoch 1: val_loss did not improve from 0.02188\n",
      "1475/1475 [==============================] - 15s 10ms/step - loss: 0.0028 - accuracy: 0.9994 - val_loss: 0.0477 - val_accuracy: 0.9949\n",
      "Epoch 2/10\n",
      "1468/1475 [============================>.] - ETA: 0s - loss: 0.0012 - accuracy: 0.9999\n",
      "Epoch 2: val_loss did not improve from 0.02188\n",
      "1475/1475 [==============================] - 14s 9ms/step - loss: 0.0012 - accuracy: 0.9999 - val_loss: 0.0372 - val_accuracy: 0.9963\n",
      "Epoch 3/10\n",
      "1474/1475 [============================>.] - ETA: 0s - loss: 4.9348e-05 - accuracy: 1.0000\n",
      "Epoch 3: val_loss did not improve from 0.02188\n",
      "1475/1475 [==============================] - 16s 11ms/step - loss: 4.9329e-05 - accuracy: 1.0000 - val_loss: 0.0435 - val_accuracy: 0.9964\n",
      "Epoch 4/10\n",
      "1472/1475 [============================>.] - ETA: 0s - loss: 1.2403e-05 - accuracy: 1.0000\n",
      "Epoch 4: val_loss did not improve from 0.02188\n",
      "1475/1475 [==============================] - 14s 10ms/step - loss: 1.2382e-05 - accuracy: 1.0000 - val_loss: 0.0406 - val_accuracy: 0.9964\n",
      "Epoch 5/10\n",
      "1471/1475 [============================>.] - ETA: 0s - loss: 3.9666e-06 - accuracy: 1.0000\n",
      "Epoch 5: val_loss did not improve from 0.02188\n",
      "1475/1475 [==============================] - 18s 12ms/step - loss: 3.9745e-06 - accuracy: 1.0000 - val_loss: 0.0443 - val_accuracy: 0.9959\n",
      "Epoch 6/10\n",
      "1472/1475 [============================>.] - ETA: 0s - loss: 0.0033 - accuracy: 0.9992\n",
      "Epoch 6: val_loss did not improve from 0.02188\n",
      "1475/1475 [==============================] - 18s 13ms/step - loss: 0.0033 - accuracy: 0.9992 - val_loss: 0.0649 - val_accuracy: 0.9947\n",
      "Epoch 7/10\n",
      "1474/1475 [============================>.] - ETA: 0s - loss: 0.0050 - accuracy: 0.9992\n",
      "Epoch 7: val_loss did not improve from 0.02188\n",
      "1475/1475 [==============================] - 15s 10ms/step - loss: 0.0050 - accuracy: 0.9992 - val_loss: 0.0724 - val_accuracy: 0.9942\n",
      "Epoch 8/10\n",
      "1475/1475 [==============================] - ETA: 0s - loss: 0.0032 - accuracy: 0.9994\n",
      "Epoch 8: val_loss did not improve from 0.02188\n",
      "1475/1475 [==============================] - 16s 11ms/step - loss: 0.0032 - accuracy: 0.9994 - val_loss: 0.0703 - val_accuracy: 0.9958\n",
      "Epoch 9/10\n",
      "1471/1475 [============================>.] - ETA: 0s - loss: 0.0029 - accuracy: 0.9996\n",
      "Epoch 9: val_loss did not improve from 0.02188\n",
      "1475/1475 [==============================] - 16s 11ms/step - loss: 0.0029 - accuracy: 0.9996 - val_loss: 0.0720 - val_accuracy: 0.9953\n",
      "Epoch 10/10\n",
      "1475/1475 [==============================] - ETA: 0s - loss: 8.2169e-05 - accuracy: 1.0000\n",
      "Epoch 10: val_loss did not improve from 0.02188\n",
      "1475/1475 [==============================] - 15s 10ms/step - loss: 8.2169e-05 - accuracy: 1.0000 - val_loss: 0.0633 - val_accuracy: 0.9959\n"
     ]
    },
    {
     "data": {
      "text/plain": [
       "<keras.callbacks.History at 0x297371c5160>"
      ]
     },
     "execution_count": 25,
     "metadata": {},
     "output_type": "execute_result"
    }
   ],
   "source": [
    "#This technique is used to preserve early features and improve generalization. Often used in transfer learning too.\n",
    "# Train remaining layers for next 10 epochs\n",
    "model.fit(x_train, y_train,\n",
    "          epochs=10,\n",
    "          batch_size=16,\n",
    "          validation_data=(x_val, y_val),\n",
    "          callbacks=[checkpoint])\n"
   ]
  },
  {
   "cell_type": "code",
   "execution_count": 26,
   "id": "e5023833",
   "metadata": {},
   "outputs": [
    {
     "name": "stdout",
     "output_type": "stream",
     "text": [
      "154/154 [==============================] - 2s 10ms/step - loss: 0.0139 - accuracy: 0.9945\n",
      "Test accuracy: 0.9945\n",
      "Test loss: 0.0139\n"
     ]
    }
   ],
   "source": [
    "# Load the best saved model\n",
    "best_model = tf.keras.models.load_model('best_model.h5')\n",
    "\n",
    "# Evaluate on test data\n",
    "test_loss, test_acc = best_model.evaluate(test_images, test_labels)\n",
    "print(f\"Test accuracy: {test_acc:.4f}\")\n",
    "print(f\"Test loss: {test_loss:.4f}\")\n"
   ]
  }
 ],
 "metadata": {
  "kernelspec": {
   "display_name": "Python 3",
   "language": "python",
   "name": "python3"
  },
  "language_info": {
   "codemirror_mode": {
    "name": "ipython",
    "version": 3
   },
   "file_extension": ".py",
   "mimetype": "text/x-python",
   "name": "python",
   "nbconvert_exporter": "python",
   "pygments_lexer": "ipython3",
   "version": "3.9.13"
  }
 },
 "nbformat": 4,
 "nbformat_minor": 5
}
