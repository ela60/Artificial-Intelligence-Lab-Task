{
 "cells": [
  {
   "cell_type": "code",
   "execution_count": 1,
   "id": "5fcfe49e",
   "metadata": {},
   "outputs": [],
   "source": [
    "import numpy as np\n",
    "import tensorflow as tf\n",
    "from tensorflow.keras import layers, models, optimizers, callbacks\n",
    "from sklearn.model_selection import train_test_split\n"
   ]
  },
  {
   "cell_type": "code",
   "execution_count": 2,
   "id": "83a12f5a",
   "metadata": {},
   "outputs": [],
   "source": [
    "(x_train_full, y_train_full), (x_test, y_test) = tf.keras.datasets.mnist.load_data()\n",
    "\n",
    "odd_digits = [1, 3, 5, 7, 9]\n",
    "\n",
    "# Filter only odd digits\n",
    "train_filter = np.isin(y_train_full, odd_digits)\n",
    "test_filter = np.isin(y_test, odd_digits)\n",
    "\n",
    "x_train_full, y_train_full = x_train_full[train_filter], y_train_full[train_filter]\n",
    "x_test, y_test = x_test[test_filter], y_test[test_filter]\n"
   ]
  },
  {
   "cell_type": "code",
   "execution_count": null,
   "id": "62c02882",
   "metadata": {},
   "outputs": [],
   "source": [
    "# Normalize pixel values\n",
    "x_train_full = x_train_full.astype('float32') / 255.0\n",
    "x_test = x_test.astype('float32') / 255.0\n",
    "\n",
    "# Reshape to add channel dimension\n",
    "x_train_full = np.expand_dims(x_train_full, -1)\n",
    "x_test = np.expand_dims(x_test, -1)\n",
    "\n",
    "# Convert odd digit labels to class indices 0-4\n",
    "label_map = {digit: i for i, digit in enumerate(odd_digits)}\n",
    "y_train_full = np.array([label_map[d] for d in y_train_full])\n",
    "y_test = np.array([label_map[d] for d in y_test])\n"
   ]
  },
  {
   "cell_type": "code",
   "execution_count": 4,
   "id": "bd55a5e8",
   "metadata": {},
   "outputs": [],
   "source": [
    "x_train, x_val, y_train, y_val = train_test_split(\n",
    "    x_train_full, y_train_full, test_size=0.15, random_state=42\n",
    ")\n"
   ]
  },
  {
   "cell_type": "code",
   "execution_count": 5,
   "id": "dd6d2b59",
   "metadata": {},
   "outputs": [],
   "source": [
    "def create_model():\n",
    "    model = models.Sequential([\n",
    "        layers.Conv2D(32, (3, 3), activation='relu', input_shape=(28, 28, 1), name='conv1'),\n",
    "        layers.MaxPooling2D((2, 2)),\n",
    "        layers.Conv2D(64, (3, 3), activation='relu', name='conv2'),\n",
    "        layers.MaxPooling2D((2, 2)),\n",
    "        layers.Conv2D(128, (3, 3), activation='relu', name='conv3'),\n",
    "        layers.Flatten(),\n",
    "        layers.Dense(128, activation='relu', name='dense1'),\n",
    "        layers.Dense(5, activation='softmax', name='output')  # 5 classes\n",
    "    ])\n",
    "    return model\n",
    "\n",
    "model = create_model()\n"
   ]
  },
  {
   "cell_type": "code",
   "execution_count": 6,
   "id": "21d0df6d",
   "metadata": {},
   "outputs": [],
   "source": [
    "optimizer = optimizers.Adagrad(learning_rate=0.003)\n",
    "\n",
    "model.compile(optimizer=optimizer,\n",
    "              loss='sparse_categorical_crossentropy',\n",
    "              metrics=['accuracy'])\n"
   ]
  },
  {
   "cell_type": "code",
   "execution_count": 7,
   "id": "a54bb40a",
   "metadata": {},
   "outputs": [],
   "source": [
    "checkpoint_cb = callbacks.ModelCheckpoint(\n",
    "    'best_model.h5', monitor='val_loss', save_best_only=True, verbose=1\n",
    ")\n"
   ]
  },
  {
   "cell_type": "code",
   "execution_count": 8,
   "id": "1e6ac9d1",
   "metadata": {},
   "outputs": [
    {
     "name": "stdout",
     "output_type": "stream",
     "text": [
      "Epoch 1/10\n",
      "809/811 [============================>.] - ETA: 0s - loss: 0.4451 - accuracy: 0.8847\n",
      "Epoch 1: val_loss improved from inf to 0.19839, saving model to best_model.h5\n",
      "811/811 [==============================] - 31s 37ms/step - loss: 0.4446 - accuracy: 0.8848 - val_loss: 0.1984 - val_accuracy: 0.9351\n",
      "Epoch 2/10\n",
      "811/811 [==============================] - ETA: 0s - loss: 0.1510 - accuracy: 0.9514\n",
      "Epoch 2: val_loss improved from 0.19839 to 0.13323, saving model to best_model.h5\n",
      "811/811 [==============================] - 30s 37ms/step - loss: 0.1510 - accuracy: 0.9514 - val_loss: 0.1332 - val_accuracy: 0.9591\n",
      "Epoch 3/10\n",
      "809/811 [============================>.] - ETA: 0s - loss: 0.1123 - accuracy: 0.9651\n",
      "Epoch 3: val_loss did not improve from 0.13323\n",
      "811/811 [==============================] - 29s 36ms/step - loss: 0.1125 - accuracy: 0.9651 - val_loss: 0.2113 - val_accuracy: 0.9266\n",
      "Epoch 4/10\n",
      "809/811 [============================>.] - ETA: 0s - loss: 0.0903 - accuracy: 0.9724\n",
      "Epoch 4: val_loss improved from 0.13323 to 0.08430, saving model to best_model.h5\n",
      "811/811 [==============================] - 38s 47ms/step - loss: 0.0902 - accuracy: 0.9724 - val_loss: 0.0843 - val_accuracy: 0.9736\n",
      "Epoch 5/10\n",
      "810/811 [============================>.] - ETA: 0s - loss: 0.0747 - accuracy: 0.9769\n",
      "Epoch 5: val_loss did not improve from 0.08430\n",
      "811/811 [==============================] - 28s 35ms/step - loss: 0.0748 - accuracy: 0.9769 - val_loss: 0.0873 - val_accuracy: 0.9701\n",
      "Epoch 6/10\n",
      "809/811 [============================>.] - ETA: 0s - loss: 0.0652 - accuracy: 0.9798\n",
      "Epoch 6: val_loss improved from 0.08430 to 0.06109, saving model to best_model.h5\n",
      "811/811 [==============================] - 26s 32ms/step - loss: 0.0652 - accuracy: 0.9798 - val_loss: 0.0611 - val_accuracy: 0.9808\n",
      "Epoch 7/10\n",
      "809/811 [============================>.] - ETA: 0s - loss: 0.0573 - accuracy: 0.9825\n",
      "Epoch 7: val_loss improved from 0.06109 to 0.05732, saving model to best_model.h5\n",
      "811/811 [==============================] - 25s 30ms/step - loss: 0.0572 - accuracy: 0.9826 - val_loss: 0.0573 - val_accuracy: 0.9823\n",
      "Epoch 8/10\n",
      "809/811 [============================>.] - ETA: 0s - loss: 0.0516 - accuracy: 0.9841\n",
      "Epoch 8: val_loss improved from 0.05732 to 0.05009, saving model to best_model.h5\n",
      "811/811 [==============================] - 25s 31ms/step - loss: 0.0516 - accuracy: 0.9841 - val_loss: 0.0501 - val_accuracy: 0.9845\n",
      "Epoch 9/10\n",
      "809/811 [============================>.] - ETA: 0s - loss: 0.0475 - accuracy: 0.9850\n",
      "Epoch 9: val_loss did not improve from 0.05009\n",
      "811/811 [==============================] - 30s 36ms/step - loss: 0.0475 - accuracy: 0.9850 - val_loss: 0.0514 - val_accuracy: 0.9849\n",
      "Epoch 10/10\n",
      "810/811 [============================>.] - ETA: 0s - loss: 0.0434 - accuracy: 0.9868\n",
      "Epoch 10: val_loss improved from 0.05009 to 0.04608, saving model to best_model.h5\n",
      "811/811 [==============================] - 29s 36ms/step - loss: 0.0434 - accuracy: 0.9868 - val_loss: 0.0461 - val_accuracy: 0.9847\n"
     ]
    }
   ],
   "source": [
    "history1 = model.fit(\n",
    "    x_train, y_train,\n",
    "    epochs=10,\n",
    "    batch_size=32,\n",
    "    validation_data=(x_val, y_val),\n",
    "    callbacks=[checkpoint_cb]\n",
    ")\n"
   ]
  },
  {
   "cell_type": "code",
   "execution_count": 9,
   "id": "e6c7ddc3",
   "metadata": {},
   "outputs": [],
   "source": [
    "for layer_name in ['conv1', 'conv2', 'conv3']:\n",
    "    model.get_layer(layer_name).trainable = False\n"
   ]
  },
  {
   "cell_type": "code",
   "execution_count": 10,
   "id": "f9cf89b4",
   "metadata": {},
   "outputs": [],
   "source": [
    "model.compile(optimizer=optimizer,\n",
    "              loss='sparse_categorical_crossentropy',\n",
    "              metrics=['accuracy'])\n"
   ]
  },
  {
   "cell_type": "code",
   "execution_count": 11,
   "id": "5a75a225",
   "metadata": {},
   "outputs": [
    {
     "name": "stdout",
     "output_type": "stream",
     "text": [
      "Epoch 11/30\n",
      "806/811 [============================>.] - ETA: 0s - loss: 0.0391 - accuracy: 0.9881\n",
      "Epoch 11: val_loss improved from 0.04608 to 0.04237, saving model to best_model.h5\n",
      "811/811 [==============================] - 12s 14ms/step - loss: 0.0391 - accuracy: 0.9882 - val_loss: 0.0424 - val_accuracy: 0.9856\n",
      "Epoch 12/30\n",
      "805/811 [============================>.] - ETA: 0s - loss: 0.0382 - accuracy: 0.9887\n",
      "Epoch 12: val_loss improved from 0.04237 to 0.04223, saving model to best_model.h5\n",
      "811/811 [==============================] - 8s 10ms/step - loss: 0.0381 - accuracy: 0.9886 - val_loss: 0.0422 - val_accuracy: 0.9867\n",
      "Epoch 13/30\n",
      "811/811 [==============================] - ETA: 0s - loss: 0.0373 - accuracy: 0.9886\n",
      "Epoch 13: val_loss improved from 0.04223 to 0.04109, saving model to best_model.h5\n",
      "811/811 [==============================] - 8s 10ms/step - loss: 0.0373 - accuracy: 0.9886 - val_loss: 0.0411 - val_accuracy: 0.9858\n",
      "Epoch 14/30\n",
      "810/811 [============================>.] - ETA: 0s - loss: 0.0363 - accuracy: 0.9892\n",
      "Epoch 14: val_loss improved from 0.04109 to 0.04047, saving model to best_model.h5\n",
      "811/811 [==============================] - 9s 11ms/step - loss: 0.0362 - accuracy: 0.9892 - val_loss: 0.0405 - val_accuracy: 0.9865\n",
      "Epoch 15/30\n",
      "806/811 [============================>.] - ETA: 0s - loss: 0.0359 - accuracy: 0.9895\n",
      "Epoch 15: val_loss improved from 0.04047 to 0.03913, saving model to best_model.h5\n",
      "811/811 [==============================] - 8s 10ms/step - loss: 0.0358 - accuracy: 0.9895 - val_loss: 0.0391 - val_accuracy: 0.9880\n",
      "Epoch 16/30\n",
      "808/811 [============================>.] - ETA: 0s - loss: 0.0347 - accuracy: 0.9898\n",
      "Epoch 16: val_loss improved from 0.03913 to 0.03861, saving model to best_model.h5\n",
      "811/811 [==============================] - 8s 10ms/step - loss: 0.0346 - accuracy: 0.9899 - val_loss: 0.0386 - val_accuracy: 0.9878\n",
      "Epoch 17/30\n",
      "810/811 [============================>.] - ETA: 0s - loss: 0.0339 - accuracy: 0.9901\n",
      "Epoch 17: val_loss did not improve from 0.03861\n",
      "811/811 [==============================] - 8s 10ms/step - loss: 0.0339 - accuracy: 0.9901 - val_loss: 0.0397 - val_accuracy: 0.9867\n",
      "Epoch 18/30\n",
      "805/811 [============================>.] - ETA: 0s - loss: 0.0333 - accuracy: 0.9901\n",
      "Epoch 18: val_loss improved from 0.03861 to 0.03742, saving model to best_model.h5\n",
      "811/811 [==============================] - 8s 10ms/step - loss: 0.0334 - accuracy: 0.9901 - val_loss: 0.0374 - val_accuracy: 0.9882\n",
      "Epoch 19/30\n",
      "807/811 [============================>.] - ETA: 0s - loss: 0.0328 - accuracy: 0.9902\n",
      "Epoch 19: val_loss did not improve from 0.03742\n",
      "811/811 [==============================] - 8s 10ms/step - loss: 0.0327 - accuracy: 0.9902 - val_loss: 0.0377 - val_accuracy: 0.9880\n",
      "Epoch 20/30\n",
      "806/811 [============================>.] - ETA: 0s - loss: 0.0322 - accuracy: 0.9904\n",
      "Epoch 20: val_loss did not improve from 0.03742\n",
      "811/811 [==============================] - 8s 10ms/step - loss: 0.0323 - accuracy: 0.9903 - val_loss: 0.0375 - val_accuracy: 0.9878\n",
      "Epoch 21/30\n",
      "810/811 [============================>.] - ETA: 0s - loss: 0.0319 - accuracy: 0.9908\n",
      "Epoch 21: val_loss improved from 0.03742 to 0.03596, saving model to best_model.h5\n",
      "811/811 [==============================] - 8s 10ms/step - loss: 0.0319 - accuracy: 0.9908 - val_loss: 0.0360 - val_accuracy: 0.9875\n",
      "Epoch 22/30\n",
      "806/811 [============================>.] - ETA: 0s - loss: 0.0312 - accuracy: 0.9911\n",
      "Epoch 22: val_loss did not improve from 0.03596\n",
      "811/811 [==============================] - 8s 10ms/step - loss: 0.0312 - accuracy: 0.9911 - val_loss: 0.0362 - val_accuracy: 0.9871\n",
      "Epoch 23/30\n",
      "807/811 [============================>.] - ETA: 0s - loss: 0.0305 - accuracy: 0.9913\n",
      "Epoch 23: val_loss did not improve from 0.03596\n",
      "811/811 [==============================] - 8s 10ms/step - loss: 0.0305 - accuracy: 0.9913 - val_loss: 0.0370 - val_accuracy: 0.9865\n",
      "Epoch 24/30\n",
      "805/811 [============================>.] - ETA: 0s - loss: 0.0301 - accuracy: 0.9913\n",
      "Epoch 24: val_loss did not improve from 0.03596\n",
      "811/811 [==============================] - 8s 10ms/step - loss: 0.0304 - accuracy: 0.9912 - val_loss: 0.0372 - val_accuracy: 0.9871\n",
      "Epoch 25/30\n",
      "807/811 [============================>.] - ETA: 0s - loss: 0.0300 - accuracy: 0.9911\n",
      "Epoch 25: val_loss improved from 0.03596 to 0.03483, saving model to best_model.h5\n",
      "811/811 [==============================] - 8s 10ms/step - loss: 0.0299 - accuracy: 0.9911 - val_loss: 0.0348 - val_accuracy: 0.9889\n",
      "Epoch 26/30\n",
      "806/811 [============================>.] - ETA: 0s - loss: 0.0292 - accuracy: 0.9912\n",
      "Epoch 26: val_loss did not improve from 0.03483\n",
      "811/811 [==============================] - 8s 10ms/step - loss: 0.0294 - accuracy: 0.9911 - val_loss: 0.0355 - val_accuracy: 0.9875\n",
      "Epoch 27/30\n",
      "811/811 [==============================] - ETA: 0s - loss: 0.0290 - accuracy: 0.9917\n",
      "Epoch 27: val_loss did not improve from 0.03483\n",
      "811/811 [==============================] - 8s 10ms/step - loss: 0.0290 - accuracy: 0.9917 - val_loss: 0.0350 - val_accuracy: 0.9871\n",
      "Epoch 28/30\n",
      "806/811 [============================>.] - ETA: 0s - loss: 0.0289 - accuracy: 0.9917\n",
      "Epoch 28: val_loss improved from 0.03483 to 0.03455, saving model to best_model.h5\n",
      "811/811 [==============================] - 8s 10ms/step - loss: 0.0288 - accuracy: 0.9917 - val_loss: 0.0345 - val_accuracy: 0.9875\n",
      "Epoch 29/30\n",
      "807/811 [============================>.] - ETA: 0s - loss: 0.0283 - accuracy: 0.9919\n",
      "Epoch 29: val_loss improved from 0.03455 to 0.03380, saving model to best_model.h5\n",
      "811/811 [==============================] - 8s 10ms/step - loss: 0.0283 - accuracy: 0.9919 - val_loss: 0.0338 - val_accuracy: 0.9875\n",
      "Epoch 30/30\n",
      "809/811 [============================>.] - ETA: 0s - loss: 0.0279 - accuracy: 0.9920\n",
      "Epoch 30: val_loss improved from 0.03380 to 0.03297, saving model to best_model.h5\n",
      "811/811 [==============================] - 8s 10ms/step - loss: 0.0279 - accuracy: 0.9920 - val_loss: 0.0330 - val_accuracy: 0.9882\n"
     ]
    }
   ],
   "source": [
    "history2 = model.fit(\n",
    "    x_train, y_train,\n",
    "    initial_epoch=10,\n",
    "    epochs=30,\n",
    "    batch_size=32,\n",
    "    validation_data=(x_val, y_val),\n",
    "    callbacks=[checkpoint_cb]\n",
    ")\n"
   ]
  }
 ],
 "metadata": {
  "kernelspec": {
   "display_name": "Python 3",
   "language": "python",
   "name": "python3"
  },
  "language_info": {
   "codemirror_mode": {
    "name": "ipython",
    "version": 3
   },
   "file_extension": ".py",
   "mimetype": "text/x-python",
   "name": "python",
   "nbconvert_exporter": "python",
   "pygments_lexer": "ipython3",
   "version": "3.9.13"
  }
 },
 "nbformat": 4,
 "nbformat_minor": 5
}
