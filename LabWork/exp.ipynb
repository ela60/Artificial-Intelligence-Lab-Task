{
 "cells": [
  {
   "cell_type": "code",
   "execution_count": 18,
   "id": "cd2cf734",
   "metadata": {},
   "outputs": [],
   "source": [
    "import numpy as np\n",
    "import matplotlib.pyplot as plt\n",
    "import tensorflow as tf\n",
    "from tensorflow.keras import layers, models, optimizers, callbacks\n",
    "from tensorflow.keras.datasets import mnist\n",
    "from sklearn.model_selection import train_test_split\n"
   ]
  },
  {
   "cell_type": "code",
   "execution_count": 19,
   "id": "5dbf1523",
   "metadata": {},
   "outputs": [],
   "source": [
    "# Load MNIST\n",
    "(x_train, y_train), (x_test, y_test) = mnist.load_data()\n",
    "\n",
    "# Combine train and test for custom split\n",
    "x = np.concatenate((x_train, x_test), axis=0)\n",
    "y = np.concatenate((y_train, y_test), axis=0)\n",
    "\n",
    "# Filter only even digits (0, 2, 4, 6, 8)\n",
    "even_mask = np.isin(y, [0, 2, 4, 6, 8])\n",
    "x = x[even_mask]\n",
    "y = y[even_mask]\n",
    "\n",
    "# Normalize and reshape\n",
    "x = x / 255.0\n",
    "x = x.reshape(-1, 28, 28, 1)\n",
    "\n",
    "# Map labels to 0-4 for categorical use\n",
    "label_map = {0: 0, 2: 1, 4: 2, 6: 3, 8: 4}\n",
    "y = np.array([label_map[label] for label in y])\n",
    "\n",
    "# Train-test split: 85% train, 15% val from training set\n",
    "x_train, x_val, y_train, y_val = train_test_split(x, y, test_size=0.15, random_state=42, stratify=y)\n",
    "\n",
    "# One-hot encode\n",
    "y_train = tf.keras.utils.to_categorical(y_train, num_classes=5)\n",
    "y_val = tf.keras.utils.to_categorical(y_val, num_classes=5)\n"
   ]
  },
  {
   "cell_type": "code",
   "execution_count": 20,
   "id": "8ecd105a",
   "metadata": {},
   "outputs": [],
   "source": [
    "def build_model():\n",
    "    model = models.Sequential()\n",
    "    model.add(layers.Conv2D(32, (3,3), activation='relu', input_shape=(28,28,1), name='conv1'))\n",
    "    model.add(layers.MaxPooling2D((2,2)))\n",
    "    \n",
    "    model.add(layers.Conv2D(64, (3,3), activation='relu', name='conv2'))\n",
    "    model.add(layers.MaxPooling2D((2,2)))\n",
    "    \n",
    "    model.add(layers.Conv2D(128, (3,3), activation='relu', name='conv3'))\n",
    "    model.add(layers.Flatten())\n",
    "    \n",
    "    model.add(layers.Dense(128, activation='relu', name='dense1'))\n",
    "    model.add(layers.Dense(5, activation='softmax', name='output'))\n",
    "    \n",
    "    return model\n"
   ]
  },
  {
   "cell_type": "code",
   "execution_count": 21,
   "id": "1d1e7072",
   "metadata": {},
   "outputs": [],
   "source": [
    "model = build_model()\n",
    "optimizer = optimizers.Adagrad(learning_rate=0.003)\n",
    "\n",
    "model.compile(optimizer=optimizer,\n",
    "              loss='categorical_crossentropy',\n",
    "              metrics=['accuracy'])\n",
    "\n",
    "# ModelCheckpoint callback\n",
    "checkpoint = callbacks.ModelCheckpoint(\"best_model.h5\", monitor=\"val_loss\", save_best_only=True, verbose=1)\n"
   ]
  },
  {
   "cell_type": "code",
   "execution_count": 22,
   "id": "b83e27fa",
   "metadata": {},
   "outputs": [
    {
     "name": "stdout",
     "output_type": "stream",
     "text": [
      "Epoch 1/10\n",
      "914/915 [============================>.] - ETA: 0s - loss: 0.4524 - accuracy: 0.8937\n",
      "Epoch 1: val_loss improved from inf to 0.13991, saving model to best_model.h5\n",
      "915/915 [==============================] - 27s 29ms/step - loss: 0.4522 - accuracy: 0.8937 - val_loss: 0.1399 - val_accuracy: 0.9549\n",
      "Epoch 2/10\n",
      "913/915 [============================>.] - ETA: 0s - loss: 0.1114 - accuracy: 0.9671\n",
      "Epoch 2: val_loss improved from 0.13991 to 0.09313, saving model to best_model.h5\n",
      "915/915 [==============================] - 27s 30ms/step - loss: 0.1113 - accuracy: 0.9671 - val_loss: 0.0931 - val_accuracy: 0.9698\n",
      "Epoch 3/10\n",
      "913/915 [============================>.] - ETA: 0s - loss: 0.0790 - accuracy: 0.9762\n",
      "Epoch 3: val_loss improved from 0.09313 to 0.09109, saving model to best_model.h5\n",
      "915/915 [==============================] - 26s 29ms/step - loss: 0.0790 - accuracy: 0.9762 - val_loss: 0.0911 - val_accuracy: 0.9700\n",
      "Epoch 4/10\n",
      "914/915 [============================>.] - ETA: 0s - loss: 0.0614 - accuracy: 0.9814\n",
      "Epoch 4: val_loss improved from 0.09109 to 0.06038, saving model to best_model.h5\n",
      "915/915 [==============================] - 27s 29ms/step - loss: 0.0614 - accuracy: 0.9814 - val_loss: 0.0604 - val_accuracy: 0.9804\n",
      "Epoch 5/10\n",
      "914/915 [============================>.] - ETA: 0s - loss: 0.0513 - accuracy: 0.9846\n",
      "Epoch 5: val_loss improved from 0.06038 to 0.05451, saving model to best_model.h5\n",
      "915/915 [==============================] - 27s 30ms/step - loss: 0.0513 - accuracy: 0.9846 - val_loss: 0.0545 - val_accuracy: 0.9833\n",
      "Epoch 6/10\n",
      "914/915 [============================>.] - ETA: 0s - loss: 0.0444 - accuracy: 0.9867\n",
      "Epoch 6: val_loss improved from 0.05451 to 0.04844, saving model to best_model.h5\n",
      "915/915 [==============================] - 26s 29ms/step - loss: 0.0444 - accuracy: 0.9867 - val_loss: 0.0484 - val_accuracy: 0.9853\n",
      "Epoch 7/10\n",
      "913/915 [============================>.] - ETA: 0s - loss: 0.0397 - accuracy: 0.9877\n",
      "Epoch 7: val_loss improved from 0.04844 to 0.04209, saving model to best_model.h5\n",
      "915/915 [==============================] - 27s 29ms/step - loss: 0.0397 - accuracy: 0.9877 - val_loss: 0.0421 - val_accuracy: 0.9880\n",
      "Epoch 8/10\n",
      "914/915 [============================>.] - ETA: 0s - loss: 0.0360 - accuracy: 0.9889\n",
      "Epoch 8: val_loss did not improve from 0.04209\n",
      "915/915 [==============================] - 27s 29ms/step - loss: 0.0360 - accuracy: 0.9889 - val_loss: 0.0501 - val_accuracy: 0.9845\n",
      "Epoch 9/10\n",
      "913/915 [============================>.] - ETA: 0s - loss: 0.0330 - accuracy: 0.9897\n",
      "Epoch 9: val_loss improved from 0.04209 to 0.03784, saving model to best_model.h5\n",
      "915/915 [==============================] - 28s 30ms/step - loss: 0.0329 - accuracy: 0.9897 - val_loss: 0.0378 - val_accuracy: 0.9880\n",
      "Epoch 10/10\n",
      "914/915 [============================>.] - ETA: 0s - loss: 0.0300 - accuracy: 0.9909\n",
      "Epoch 10: val_loss did not improve from 0.03784\n",
      "915/915 [==============================] - 27s 30ms/step - loss: 0.0300 - accuracy: 0.9909 - val_loss: 0.0389 - val_accuracy: 0.9878\n"
     ]
    }
   ],
   "source": [
    "history1 = model.fit(\n",
    "    x_train, y_train,\n",
    "    epochs=10,\n",
    "    batch_size=32,\n",
    "    validation_data=(x_val, y_val),\n",
    "    callbacks=[checkpoint]\n",
    ")\n"
   ]
  },
  {
   "cell_type": "code",
   "execution_count": 23,
   "id": "9f5b9f67",
   "metadata": {},
   "outputs": [],
   "source": [
    "#  Saves the model with the lowest validation loss.\n",
    "checkpoint = ModelCheckpoint(\n",
    "    'best_model.h5', monitor='val_loss', save_best_only=True, mode='min')\n",
    "\n",
    "optimizer = Adagrad(learning_rate=0.003)\n",
    "\n",
    "model.compile(optimizer=optimizer,\n",
    "              loss='categorical_crossentropy',\n",
    "              metrics=['accuracy'])\n"
   ]
  },
  {
   "cell_type": "code",
   "execution_count": 24,
   "id": "36eb8eae",
   "metadata": {},
   "outputs": [
    {
     "name": "stdout",
     "output_type": "stream",
     "text": [
      "Epoch 11/20\n",
      "915/915 [==============================] - 28s 29ms/step - loss: 0.0311 - accuracy: 0.9900 - val_loss: 0.0328 - val_accuracy: 0.9897\n",
      "Epoch 12/20\n",
      "915/915 [==============================] - 26s 29ms/step - loss: 0.0280 - accuracy: 0.9912 - val_loss: 0.0327 - val_accuracy: 0.9899\n",
      "Epoch 13/20\n",
      "915/915 [==============================] - 26s 28ms/step - loss: 0.0251 - accuracy: 0.9918 - val_loss: 0.0318 - val_accuracy: 0.9899\n",
      "Epoch 14/20\n",
      "915/915 [==============================] - 27s 29ms/step - loss: 0.0232 - accuracy: 0.9928 - val_loss: 0.0315 - val_accuracy: 0.9899\n",
      "Epoch 15/20\n",
      "915/915 [==============================] - 31s 34ms/step - loss: 0.0220 - accuracy: 0.9929 - val_loss: 0.0289 - val_accuracy: 0.9903\n",
      "Epoch 16/20\n",
      "915/915 [==============================] - 27s 29ms/step - loss: 0.0205 - accuracy: 0.9929 - val_loss: 0.1160 - val_accuracy: 0.9628\n",
      "Epoch 17/20\n",
      "915/915 [==============================] - 27s 30ms/step - loss: 0.0193 - accuracy: 0.9938 - val_loss: 0.0291 - val_accuracy: 0.9905\n",
      "Epoch 18/20\n",
      "915/915 [==============================] - 28s 30ms/step - loss: 0.0178 - accuracy: 0.9947 - val_loss: 0.0260 - val_accuracy: 0.9911\n",
      "Epoch 19/20\n",
      "915/915 [==============================] - 27s 30ms/step - loss: 0.0169 - accuracy: 0.9951 - val_loss: 0.0246 - val_accuracy: 0.9919\n",
      "Epoch 20/20\n",
      "915/915 [==============================] - 32s 35ms/step - loss: 0.0162 - accuracy: 0.9949 - val_loss: 0.0260 - val_accuracy: 0.9909\n"
     ]
    }
   ],
   "source": [
    "history2 = model.fit(\n",
    "    x_train, y_train,\n",
    "    epochs=20,\n",
    "    initial_epoch=10,\n",
    "    batch_size=32,\n",
    "    validation_data=(x_val, y_val),\n",
    "    callbacks=[checkpoint]\n",
    ")\n"
   ]
  },
  {
   "cell_type": "code",
   "execution_count": 25,
   "id": "b5a7d982",
   "metadata": {},
   "outputs": [],
   "source": [
    "for layer in model.layers:\n",
    "    if layer.name in ['conv1', 'conv2', 'conv3']:\n",
    "        layer.trainable = False\n",
    "\n",
    "# Recompile with same optimizer\n",
    "model.compile(optimizer=optimizer,\n",
    "              loss='categorical_crossentropy',\n",
    "              metrics=['accuracy'])\n"
   ]
  },
  {
   "cell_type": "code",
   "execution_count": 26,
   "id": "900cfdd7",
   "metadata": {},
   "outputs": [
    {
     "name": "stdout",
     "output_type": "stream",
     "text": [
      "Epoch 11/20\n",
      "915/915 [==============================] - 11s 12ms/step - loss: 0.0143 - accuracy: 0.9960 - val_loss: 0.0240 - val_accuracy: 0.9928\n",
      "Epoch 12/20\n",
      "915/915 [==============================] - 11s 11ms/step - loss: 0.0139 - accuracy: 0.9961 - val_loss: 0.0235 - val_accuracy: 0.9924\n",
      "Epoch 13/20\n",
      "915/915 [==============================] - 10s 11ms/step - loss: 0.0136 - accuracy: 0.9961 - val_loss: 0.0239 - val_accuracy: 0.9921\n",
      "Epoch 14/20\n",
      "915/915 [==============================] - 10s 11ms/step - loss: 0.0133 - accuracy: 0.9963 - val_loss: 0.0238 - val_accuracy: 0.9923\n",
      "Epoch 15/20\n",
      "915/915 [==============================] - 10s 11ms/step - loss: 0.0132 - accuracy: 0.9961 - val_loss: 0.0232 - val_accuracy: 0.9923\n",
      "Epoch 16/20\n",
      "915/915 [==============================] - 10s 11ms/step - loss: 0.0128 - accuracy: 0.9964 - val_loss: 0.0228 - val_accuracy: 0.9924\n",
      "Epoch 17/20\n",
      "915/915 [==============================] - 12s 13ms/step - loss: 0.0125 - accuracy: 0.9965 - val_loss: 0.0229 - val_accuracy: 0.9919\n",
      "Epoch 18/20\n",
      "915/915 [==============================] - 10s 11ms/step - loss: 0.0122 - accuracy: 0.9965 - val_loss: 0.0227 - val_accuracy: 0.9921\n",
      "Epoch 19/20\n",
      "915/915 [==============================] - 10s 11ms/step - loss: 0.0121 - accuracy: 0.9968 - val_loss: 0.0222 - val_accuracy: 0.9926\n",
      "Epoch 20/20\n",
      "915/915 [==============================] - 10s 11ms/step - loss: 0.0119 - accuracy: 0.9968 - val_loss: 0.0230 - val_accuracy: 0.9932\n"
     ]
    }
   ],
   "source": [
    "history2 = model.fit(\n",
    "    x_train, y_train,\n",
    "    epochs=20,\n",
    "    initial_epoch=10,\n",
    "    batch_size=32,\n",
    "    validation_data=(x_val, y_val),\n",
    "    callbacks=[checkpoint]\n",
    ")\n"
   ]
  },
  {
   "cell_type": "code",
   "execution_count": 27,
   "id": "5572baeb",
   "metadata": {},
   "outputs": [
    {
     "data": {
      "image/png": "[encoded data removed]",
      "text/plain": [
       "<Figure size 1200x500 with 2 Axes>"
      ]
     },
     "metadata": {},
     "output_type": "display_data"
    }
   ],
   "source": [
    "# Combine histories\n",
    "history = {}\n",
    "for key in history1.history:\n",
    "    history[key] = history1.history[key] + history2.history[key]\n",
    "\n",
    "# Plotting\n",
    "plt.figure(figsize=(12, 5))\n",
    "\n",
    "plt.subplot(1, 2, 1)\n",
    "plt.plot(history['loss'], label='Train Loss')\n",
    "plt.plot(history['val_loss'], label='Val Loss')\n",
    "plt.title('Loss over Epochs')\n",
    "plt.xlabel('Epochs')\n",
    "plt.ylabel('Loss')\n",
    "plt.legend()\n",
    "\n",
    "plt.subplot(1, 2, 2)\n",
    "plt.plot(history['accuracy'], label='Train Accuracy')\n",
    "plt.plot(history['val_accuracy'], label='Val Accuracy')\n",
    "plt.title('Accuracy over Epochs')\n",
    "plt.xlabel('Epochs')\n",
    "plt.ylabel('Accuracy')\n",
    "plt.legend()\n",
    "\n",
    "plt.tight_layout()\n",
    "plt.show()\n"
   ]
  },
  {
   "cell_type": "code",
   "execution_count": 28,
   "id": "b8e7a0c1",
   "metadata": {},
   "outputs": [
    {
     "name": "stdout",
     "output_type": "stream",
     "text": [
      "WARNING:tensorflow:Error in loading the saved optimizer state. As a result, your model is starting with a freshly initialized optimizer.\n",
      "162/162 [==============================] - 2s 10ms/step - loss: 0.0222 - accuracy: 0.9926\n",
      "Best Model Validation Accuracy: 0.9926, Validation Loss: 0.0222\n"
     ]
    }
   ],
   "source": [
    "best_model = tf.keras.models.load_model(\"best_model.h5\")\n",
    "val_loss, val_acc = best_model.evaluate(x_val, y_val)\n",
    "print(f\"Best Model Validation Accuracy: {val_acc:.4f}, Validation Loss: {val_loss:.4f}\")\n"
   ]
  },
  {
   "cell_type": "code",
   "execution_count": null,
   "id": "c92a14d2",
   "metadata": {},
   "outputs": [],
   "source": []
  }
 ],
 "metadata": {
  "kernelspec": {
   "display_name": "Python 3",
   "language": "python",
   "name": "python3"
  },
  "language_info": {
   "codemirror_mode": {
    "name": "ipython",
    "version": 3
   },
   "file_extension": ".py",
   "mimetype": "text/x-python",
   "name": "python",
   "nbconvert_exporter": "python",
   "pygments_lexer": "ipython3",
   "version": "3.9.13"
  }
 },
 "nbformat": 4,
 "nbformat_minor": 5
}
